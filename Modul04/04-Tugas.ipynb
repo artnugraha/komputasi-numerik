{
 "cells": [
  {
   "cell_type": "markdown",
   "metadata": {},
   "source": [
    "## Tugas Modul 4\n",
    "\n",
    "Kerjakan tiga soal ini dalam 1 Jupyter Notebook. Soal 2 akan dipresentasikan juga di kelas pada pertemuan 10 April 2025.\n",
    "\n",
    "**SOAL 1**\n",
    "Buatlah *pseudocode* atau *flowchart* untuk tiga metode numerik ini:\n",
    "- Eliminasi Gauss untuk menentukan matriks L (*lower triangular matrix*) maupun matriks U (*upper triangular matrix*)\n",
    "- Eliminasi Gauss-Jordan untuk mendapatkan solusi persamaan linear dengan $n$ variabel\n",
    "- Metode iteratif Gauss-Seidel untuk mendapatkan solusi persamaan linear dengan $n$ variabel\n",
    "\n",
    "**SOAL 2**\n",
    "\n",
    "Tentukan satu problem fisika yang mengandung sistem persamaan linear yang mengandung minimal 4 variabel. Pecahkan masalah ini dengan metode numerik yang sesuai (satu metode saja) dengan implementasi dalam bahasa Python. Laporan harus lengkap dengan definisi masalah fisikanya, masalah matematisnya, hingga algoritma dan implementasi pemrograman.\n",
    "\n",
    "**SOAL 3 = QUIZ**\n",
    "\n",
    "Selesaikan sistem persamaan linear berikut ini:\n",
    "$$\n",
    "\\begin{align*}\n",
    "2x_1  + 3x_2 - x_3  &= 5 \\\\\n",
    "4x_1  + 4x_2 - 3x_3 &= 3 \\\\\n",
    "-2x_1 + 3x_2 - x_3  &= 1 \n",
    "\\end{align*}\n",
    "$$\n",
    "Tunjukkan penyelesaiannya menggunakan **tulisan tangan** satu demi satu dengan tiga metode berikut ini:\n",
    "- metode eliminasi Gauss biasa (boleh dengan matriks $\\mathbf{L}$ maupun $\\mathbf{U}$).\n",
    "- metode Gauss-Jordan\n",
    "- metode dekomposisi LU\n",
    "\n",
    "Foto tulisan tangan di atas kertas, dijadikan gambar dan dilampirkan ke dalam Jupyter Notebook jawaban."
   ]
  }
 ],
 "metadata": {
  "language_info": {
   "name": "python"
  }
 },
 "nbformat": 4,
 "nbformat_minor": 2
}
