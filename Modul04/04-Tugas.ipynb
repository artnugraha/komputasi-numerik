{
 "cells": [
  {
   "cell_type": "markdown",
   "metadata": {},
   "source": [
    "## Tugas Modul 4\n",
    "\n",
    "Kerjakan dua soal ini dalam 1 Jupyter Notebook. Soal 2 akan dipresentasikan juga di kelas pada pertemuan berikutnya.\n",
    "\n",
    "**SOAL 1**\n",
    "Buatlah *pseudocode* atau *flowchart* untuk tiga metode numerik ini:\n",
    "- Eliminasi Gauss untuk menentukan matriks L (*lower triangular matrix*) maupun matriks U (*upper triangular matrix*)\n",
    "- Eliminasi Gauss-Jordan untuk mendapatkan solusi persamaan linear dengan $n$ variabel\n",
    "- Metode iteratif Gauss-Seidel untuk mendapatkan solusi persamaan linear dengan $n$ variabel\n",
    "\n",
    "**SOAL 2**\n",
    "\n",
    "Tentukan satu problem fisika yang mengandung sistem persamaan linear yang mengandung minimal 4 variabel. Pecahkan masalah ini dengan metode numerik yang sesuai (satu metode saja) dengan implementasi dalam bahasa Python. Laporan harus lengkap dengan definisi masalah fisikanya, masalah matematisnya, hingga algoritma dan implementasi pemrograman."
   ]
  }
 ],
 "metadata": {
  "language_info": {
   "name": "python"
  }
 },
 "nbformat": 4,
 "nbformat_minor": 2
}
