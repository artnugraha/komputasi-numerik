{
 "cells": [
  {
   "cell_type": "markdown",
   "metadata": {},
   "source": [
    "## Tugas Modul 5\n",
    "\n",
    "Kerjakan tiga soal di bawah dalam 1 Jupyter Notebook. Soal 3 akan dipresentasikan juga di kelas pada pertemuan 8 Mei 2025.\n",
    "\n",
    "Untuk **SOAL 1 dan 2**, diketahui data eksperimen pengukuran percepatan gravitasi dengan mengukur periode osilasi bandul terhadap panjang bandul sebagai berikut:\n",
    "\n",
    "| Indeks data i | Panjang L (m) | Periode terukur T (s) |\n",
    "|:-----:|:-----------------:|:-------------------------:|\n",
    "|  1    |       0.20        |        0.9324            | \n",
    "|  2    |       0.65        |        1.6253            | \n",
    "|  3    |       1.10        |        2.1236            | \n",
    "|  4    |       1.55        |        2.5424            | \n",
    "|  5    |       2.00        |        2.8744            | \n",
    "\n",
    "Dalam pendekatan osilasi sudut kecil, kita memiliki hubungan antara periode osilasi dan panjang bandul sebagai berikut: \n",
    "$$\n",
    "T = 2\\pi \\sqrt{\\frac{L}{g}}\n",
    "$$\n",
    "atau\n",
    "$$\n",
    "T^2 = \\frac{4\\pi^2}{g} L\n",
    "$$\n",
    "\n",
    "Penentuan nilai percepatan gravitasi $g$ adalah permasalahan yang ingin dipecahkan dalam tugas soal 1 dan 2."
   ]
  },
  {
   "cell_type": "markdown",
   "metadata": {},
   "source": [
    "**SOAL 1**\n",
    "\n",
    "Gunakan metode regresi kuadrat terkecil yang dibahas dalam submodul [05-1](05-1-Regresi-Kuadrat-Terkecil.ipynb) untuk mendapatkan nilai $g$. Uraikan langkah-langkah algoritma beserta kode Python implementasinya."
   ]
  },
  {
   "cell_type": "markdown",
   "metadata": {},
   "source": [
    "**SOAL 2**\n",
    "\n",
    "Gunakan metode interpolasi polinomial derajat 4 untuk menentukan nilai $g$ dengan data yang sama seperti SOAL 1. Uraikan langkah-langkah algoritma beserta kode Python implementasinya. Diskusikan perbedaan hasil yang mungkin muncul antara metode interpolasi dengan regresi."
   ]
  },
  {
   "cell_type": "markdown",
   "metadata": {},
   "source": [
    "**SOAL 3**\n",
    "\n",
    "Carilah/buatlah sembarang data dua dimensi yang mengandung pasangan $(x_i, y_i)$ sebanyak 10 titik data, dengan syarat bahwa $x_i$ dan $y_i$ adalah suatu besaran fisika dengan makna tertentu (misalnya panjang dan periode osilasi seperti contoh kasus penentuan konstanta gravitasi di atas). Lakukan metode regresi dan interpolasi untuk menghasilkan pencocokan kurva pada 10 titik data tersebut. Jika ada besaran/konstanta fisis (contoh seperti percepatan gravitasi) yang ditemukan berdasarkan regresi/interpolasi tersebut, diskusikan hasilnya dengan membandingkan pada referensi yang tersedia di literatur/internet."
   ]
  }
 ],
 "metadata": {
  "language_info": {
   "name": "python"
  }
 },
 "nbformat": 4,
 "nbformat_minor": 2
}
