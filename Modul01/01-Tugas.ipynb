{
 "cells": [
  {
   "cell_type": "markdown",
   "metadata": {},
   "source": [
    "## Tugas Modul 1\n",
    "\n",
    "Dalam 1 berkas (*file*) Jupyter Notebook (ekstensi `.ipynb`, misalnya diberi nama file: `Tugas-Modul01.ipynb`) kerjakan semua yang diminta di bawah ini. Pengerjaan dapat dibagi ke beberapa sel dalam file yang sama. Total ada 10 soal sehingga kalian bisa membuat 10 sel berbeda di dalam 1 file `.ipynb`\n",
    "\n",
    "1. Buat daftar 5 situs web yang paling sering kalian kunjungi dan sertakan tautan (URL/link) untuk setiap situs tersebut.\n",
    "\n",
    "2. Tulis 1 paragraf bebas (minimal 5 kalimat) tentang fisikawan favorit kalian dan berikan tautan sumber (misal: Wikipedia) beserta gambar fisikawannya. \n",
    "\n",
    "3. Buat tabel yang berisi semua mata kuliah yang kalian ambil di semester ini dalam bentuk kolom-kolom: Kode Mata Kuliah, Nama Mata Kuliah, Nama Dosen.\n",
    "\n",
    "4. Tulis kode LaTeX untuk menampilkan salah satu [identitas trigonometri](https://en.wikipedia.org/wiki/List_of_trigonometric_identities#Angle_sum_and_difference_identities) berikut ini:\n",
    "\n",
    "$$\\cos(\\alpha \\pm \\beta) = \\cos \\alpha \\cos \\beta \\mp \\sin \\alpha \\sin \\beta$$\n",
    "\n",
    "5. Tulis kode LaTeX untuk menampilkan [integral tak-tentu](https://en.wikipedia.org/wiki/Lists_of_integrals)\n",
    "\n",
    "$$\\int \\frac{1}{1 + x^2} \\, dx = \\arctan x + C$$\n",
    "\n",
    "6. Tulis kode LaTeX untuk menampilkan [persamaan Navier-Stokes](https://en.wikipedia.org/wiki/Navier%E2%80%93Stokes_equations)\n",
    "\n",
    "$$\\frac{\\partial \\mathbf{u}}{\\partial t} + (\\mathbf{u} \\cdot \\nabla) \\mathbf{u} - \\nu \\nabla^2 \\mathbf{u} = - \\nabla w + \\mathbf{g}$$\n",
    "\n",
    "7. Tulis kode LaTeX untuk menampilkan [deret Taylor](https://en.wikipedia.org/wiki/Taylor_series)\n",
    "\n",
    "$$\\sum_{n=0}^{\\infty} \\frac{f^{(n)}(a)}{n!} (x-a)^n$$\n",
    "\n",
    "8. Tulis kode LaTeX untuk menampilkan formula [matriks invers](https://en.wikipedia.org/wiki/Invertible_matrix)\n",
    "\n",
    "$$\\begin{bmatrix} a & b \\\\\\ c & d \\end{bmatrix}^{-1} = \\frac{1}{ad - bc} \\begin{bmatrix} d & -b \\\\\\ -c & a \\end{bmatrix}$$\n",
    "\n",
    "9. Misalkan fungsi $f(x) = \\cos(x)$ didekati dengan deret Taylor hingga orde 2, yaitu: \n",
    "    \n",
    "    $$\n",
    "    T_2(x) = 1 - \\frac{x^2}{2}.\n",
    "    $$ \n",
    "    \n",
    "    Lakukan langkah-langkah berikut:\n",
    "\n",
    "    **(a)** Hitung nilai aproksimasi $T_2\\left(\\frac{\\pi}{3}\\right)$ dan bandingkan dengan nilai eksak $\\cos\\left(\\frac{\\pi}{3}\\right)$.\n",
    "\n",
    "    **(b)** Gunakan bentuk sisa Lagrange untuk deret Taylor guna mengestimasi galat pemotongan (*truncation error*) pada $x = \\frac{\\pi}{3}$.\n",
    "\n",
    "    **(c)** Diskusikan peran galat pembulatan dalam perhitungan ini serta jelaskan bagaimana galat pembulatan dan galat pemotongan dapat mempengaruhi keakuratan hasil akhir.\n",
    "\n",
    "    **(d)** Berdasarkan perhitungan di atas, evaluasi apakah aproksimasi tersebut dapat diterima jika batas toleransi yang diinginkan adalah $10^{-4}$.\n",
    "\n",
    "10. Ambil bilangan desimal 7.25. \n",
    "    \n",
    "    Lakukanlah langkah-langkah berikut:\n",
    "\n",
    "    **(a)** Konversikan bilangan ini ke dalam format biner. \n",
    "\n",
    "    **(b)** Tunjukkan langkah normalisasi bilangan tersebut ke dalam bentuk $1.m \\times 2^E$ dan tentukan nilai mantisa $m$ serta eksponen $E$.  \n",
    "\n",
    "    **(c)** Representasikan bilangan ini dalam format floating-point IEEE 754 presisi tunggal (32-bit) dengan menjelaskan tiga komponen utamanya: bit tanda, eksponen (dengan pergeseran 127), dan mantisa.  \n",
    "\n",
    "    **(d)** Diskusikan bagaimana keterbatasan representasi (ukuran variabel 32-bit) dapat mempengaruhi presisi perhitungan, serta dampak potensial dari galat pembulatan pada perhitungan numerik yang melibatkan bilangan tersebut.\n"
   ]
  }
 ],
 "metadata": {
  "kernelspec": {
   "display_name": "Python 3",
   "language": "python",
   "name": "python3"
  },
  "language_info": {
   "codemirror_mode": {
    "name": "ipython",
    "version": 3
   },
   "file_extension": ".py",
   "mimetype": "text/x-python",
   "name": "python",
   "nbconvert_exporter": "python",
   "pygments_lexer": "ipython3",
   "version": "3.11.2"
  }
 },
 "nbformat": 4,
 "nbformat_minor": 4
}
