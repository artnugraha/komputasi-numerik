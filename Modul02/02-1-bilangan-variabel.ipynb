{
 "cells": [
  {
   "cell_type": "markdown",
   "metadata": {},
   "source": [
    "# Bilangan dalam Python\n",
    "\n",
    "Dalam Python [tipe data numerik](https://docs.python.org/3/library/stdtypes.html#numeric-types-int-float-complex) utama meliputi bilangan bulat (*integers*), bilangan riil (*floats*) dan bilangan kompleks (*complex numbers*). Sintaksis untuk operasi aritmetiknya adalah: penjumlahan `+`, pengurangan `-`, perkalian `*`, pembagian `/`, dan pemangkatan `**`."
   ]
  },
  {
   "cell_type": "markdown",
   "metadata": {},
   "source": [
    "## Bilangan bulat (*Integers*)\n",
    "\n",
    "Contoh operasi penambahan bilangan bulat:"
   ]
  },
  {
   "cell_type": "code",
   "execution_count": 1,
   "metadata": {},
   "outputs": [
    {
     "data": {
      "text/plain": [
       "20"
      ]
     },
     "execution_count": 1,
     "metadata": {},
     "output_type": "execute_result"
    }
   ],
   "source": [
    "8 + 12"
   ]
  },
  {
   "cell_type": "markdown",
   "metadata": {},
   "source": [
    "Pengurangan bilangan bulat:"
   ]
  },
  {
   "cell_type": "code",
   "execution_count": 2,
   "metadata": {},
   "outputs": [
    {
     "data": {
      "text/plain": [
       "1998"
      ]
     },
     "execution_count": 2,
     "metadata": {},
     "output_type": "execute_result"
    }
   ],
   "source": [
    "2019 - 21"
   ]
  },
  {
   "cell_type": "markdown",
   "metadata": {},
   "source": [
    "Perkalian bilangan bulat:"
   ]
  },
  {
   "cell_type": "code",
   "execution_count": 3,
   "metadata": {},
   "outputs": [
    {
     "data": {
      "text/plain": [
       "495"
      ]
     },
     "execution_count": 3,
     "metadata": {},
     "output_type": "execute_result"
    }
   ],
   "source": [
    "45 * 11"
   ]
  },
  {
   "cell_type": "markdown",
   "metadata": {},
   "source": [
    "Pembagian bilangan bulat:<br />\n",
    "(perhatikan bahwa pembagian bilangan bulat dalam Python **selalu** menghasilkan suatu *float*)"
   ]
  },
  {
   "cell_type": "code",
   "execution_count": 4,
   "metadata": {},
   "outputs": [
    {
     "data": {
      "text/plain": [
       "25.0"
      ]
     },
     "execution_count": 4,
     "metadata": {},
     "output_type": "execute_result"
    }
   ],
   "source": [
    "100 / 4"
   ]
  },
  {
   "cell_type": "markdown",
   "metadata": {},
   "source": [
    "Pangkat bilangan bulat:"
   ]
  },
  {
   "cell_type": "code",
   "execution_count": 5,
   "metadata": {},
   "outputs": [
    {
     "data": {
      "text/plain": [
       "1024"
      ]
     },
     "execution_count": 5,
     "metadata": {},
     "output_type": "execute_result"
    }
   ],
   "source": [
    "2**10"
   ]
  },
  {
   "cell_type": "markdown",
   "metadata": {},
   "source": [
    "Kita dapat menggunakan fungsi bawaan `type()` dalam Python untuk memverifikasi tipe data dari suatu bilangan:"
   ]
  },
  {
   "cell_type": "code",
   "execution_count": 6,
   "metadata": {},
   "outputs": [
    {
     "data": {
      "text/plain": [
       "int"
      ]
     },
     "execution_count": 6,
     "metadata": {},
     "output_type": "execute_result"
    }
   ],
   "source": [
    "type(42)"
   ]
  },
  {
   "cell_type": "markdown",
   "metadata": {},
   "source": [
    "## Bilangan riil titik-ambang (*floating point numbers*)\n",
    "\n",
    "Bilangan titik-ambang (*float*) adalah bilangan riil yang ditulis dalam bentuk desimal. Python menyimpan tipe data *float* dan *integer* dengan cara yang berbeda. Jika kita mengombinasikan *float* dan *integer* dalam suatu operasi aritmetik, hasil yang diperoleh akan selalu berupa *float*. \n",
    "\n",
    "Sebagai contoh, hasil dari $\\sqrt{2}$ ketika dinyatakan dalam bentuk $2^{0.5}$ (catatan: 2 merupakan *integer*, sementara 0.5 merupakan *float*) adalah"
   ]
  },
  {
   "cell_type": "code",
   "execution_count": 7,
   "metadata": {},
   "outputs": [
    {
     "data": {
      "text/plain": [
       "1.4142135623730951"
      ]
     },
     "execution_count": 7,
     "metadata": {},
     "output_type": "execute_result"
    }
   ],
   "source": [
    "2**0.5"
   ]
  },
  {
   "cell_type": "markdown",
   "metadata": {},
   "source": [
    "Contoh lain untuk pendekatan $2 \\pi$:"
   ]
  },
  {
   "cell_type": "code",
   "execution_count": 8,
   "metadata": {},
   "outputs": [
    {
     "data": {
      "text/plain": [
       "6.28318"
      ]
     },
     "execution_count": 8,
     "metadata": {},
     "output_type": "execute_result"
    }
   ],
   "source": [
    "2 * 3.14159"
   ]
  },
  {
   "cell_type": "markdown",
   "metadata": {},
   "source": [
    "Kemudian, dalam Python kita dapat menggunakan notasi ilmiah untuk menuliskan bilangan desimal semacam $0.00001$:"
   ]
  },
  {
   "cell_type": "code",
   "execution_count": 9,
   "metadata": {},
   "outputs": [
    {
     "data": {
      "text/plain": [
       "1e-05"
      ]
     },
     "execution_count": 9,
     "metadata": {},
     "output_type": "execute_result"
    }
   ],
   "source": [
    "1e-5"
   ]
  },
  {
   "cell_type": "markdown",
   "metadata": {},
   "source": [
    "Sekali lagi, kita dapat menggunakan fungsi bawaan `type()` untuk mengecek tipe data dari suatu bilangan:"
   ]
  },
  {
   "cell_type": "code",
   "execution_count": 10,
   "metadata": {},
   "outputs": [
    {
     "data": {
      "text/plain": [
       "int"
      ]
     },
     "execution_count": 10,
     "metadata": {},
     "output_type": "execute_result"
    }
   ],
   "source": [
    "type(42)"
   ]
  },
  {
   "cell_type": "code",
   "execution_count": 11,
   "metadata": {},
   "outputs": [
    {
     "data": {
      "text/plain": [
       "float"
      ]
     },
     "execution_count": 11,
     "metadata": {},
     "output_type": "execute_result"
    }
   ],
   "source": [
    "type(42.0)"
   ]
  },
  {
   "cell_type": "markdown",
   "metadata": {},
   "source": [
    "## Bilangan kompleks\n",
    "\n",
    "Kita dapat menggunakan fungsi `complex()` untuk membuat suatu bilangan kompleks dalam Python, atau bisa juga dengan huruf `j` untuk $j = \\sqrt{-1}$. Fungsi `complex()` memerlukan dua parameter yang mendefinisikan bagian riil dan bagian imajiner dari bilangan kompleks.\n",
    "\n",
    "Sebagai contoh, kita buat bilangan kompleks $1 + j$:"
   ]
  },
  {
   "cell_type": "code",
   "execution_count": 12,
   "metadata": {},
   "outputs": [
    {
     "data": {
      "text/plain": [
       "(1+1j)"
      ]
     },
     "execution_count": 12,
     "metadata": {},
     "output_type": "execute_result"
    }
   ],
   "source": [
    "complex(1,1)"
   ]
  },
  {
   "cell_type": "markdown",
   "metadata": {},
   "source": [
    "Penjumlahan bilangan kompleks dapat dilakukan semisal:"
   ]
  },
  {
   "cell_type": "code",
   "execution_count": 13,
   "metadata": {},
   "outputs": [
    {
     "data": {
      "text/plain": [
       "(3-1j)"
      ]
     },
     "execution_count": 13,
     "metadata": {},
     "output_type": "execute_result"
    }
   ],
   "source": [
    "(1 + 2j) + (2 - 3j)"
   ]
  },
  {
   "cell_type": "markdown",
   "metadata": {},
   "source": [
    "Perkalian bilangan kompleks:"
   ]
  },
  {
   "cell_type": "code",
   "execution_count": 14,
   "metadata": {},
   "outputs": [
    {
     "data": {
      "text/plain": [
       "(12-1j)"
      ]
     },
     "execution_count": 14,
     "metadata": {},
     "output_type": "execute_result"
    }
   ],
   "source": [
    "(2 - 1j) * (5 + 2j)"
   ]
  },
  {
   "cell_type": "markdown",
   "metadata": {},
   "source": [
    "Fungsi `type()` kembali dapat digunakan untuk verifikasi tipe bilangan:"
   ]
  },
  {
   "cell_type": "code",
   "execution_count": 15,
   "metadata": {},
   "outputs": [
    {
     "data": {
      "text/plain": [
       "complex"
      ]
     },
     "execution_count": 15,
     "metadata": {},
     "output_type": "execute_result"
    }
   ],
   "source": [
    "type(2 - 7j)"
   ]
  },
  {
   "cell_type": "markdown",
   "metadata": {},
   "source": [
    "<!--\n",
    "\n",
    "### Complex Methods\n",
    "\n",
    "The complex datatype has a few methods. For example, we can access the real and imaginary parts of a complex number:\n",
    "\n",
    "```python\n",
    "z.real\n",
    "```\n",
    "\n",
    "```nohighlight\n",
    "1.0\n",
    "```\n",
    "\n",
    "```python\n",
    "z.imag\n",
    "```\n",
    "\n",
    "```nohighlight\n",
    "1.0\n",
    "```\n",
    "\n",
    "```python\n",
    "print(z)\n",
    "```\n",
    "\n",
    "```nohighlight\n",
    "(1+1j)\n",
    "```\n",
    "\n",
    "The conjugate of a complex number $z = a + b\\sqrt{-1}$ is $\\overline{z} = a - b\\sqrt{-1}$.\n",
    "\n",
    "```python\n",
    "z.conjugate()\n",
    "```\n",
    "\n",
    "```nohighlight\n",
    "(1-1j)\n",
    "```\n",
    "\n",
    "The modulus of a complex number $z = a + b\\sqrt{-1}$ is $|z| = \\sqrt{a^2 + b^2}$ which is computed by the builtin function `abs` (which is the absolute value when applied to integers and floats).\n",
    "\n",
    "```python\n",
    "print(z)\n",
    "abs(z)\n",
    "```\n",
    "\n",
    "```nohighlight\n",
    "(1+1j)\n",
    "1.4142135623730951\n",
    "```\n",
    "\n",
    "```python\n",
    "(1**2 + 1**2)**(0.5)\n",
    "```\n",
    "\n",
    "```nohighlight\n",
    "1.4142135623730951\n",
    "```\n",
    "-->"
   ]
  },
  {
   "cell_type": "markdown",
   "metadata": {},
   "source": [
    "## Operator Aritmetika\n",
    "\n",
    "Sintaksis untuk operator aritmetika dalam Python dirangkum tabel berikut ini.\n",
    "\n",
    "| Operator | Deskripsi  |\n",
    "| :---: | :---: |\n",
    "| `+` | penjumlahan |\n",
    "| `-` | pengurangan |\n",
    "| `*` | perkalian |\n",
    "| `/` | pembagian|\n",
    "| `**` | pemangkatan |\n",
    "| `%` | sisa bagi (atau modulo) |\n",
    "| `//` | pembagian bulat |\n",
    "\n",
    "Perhatikan bahwa pembagian dua *integers* selalu menghasilkan suatu *float*:"
   ]
  },
  {
   "cell_type": "code",
   "execution_count": 16,
   "metadata": {},
   "outputs": [
    {
     "data": {
      "text/plain": [
       "1.3333333333333333"
      ]
     },
     "execution_count": 16,
     "metadata": {},
     "output_type": "execute_result"
    }
   ],
   "source": [
    "4 / 3"
   ]
  },
  {
   "cell_type": "markdown",
   "metadata": {},
   "source": [
    "Bahkan ketika hasil baginya secara analitik adalah bilangan bulat, Python tetap memberikan bentuk *float*-nya:"
   ]
  },
  {
   "cell_type": "code",
   "execution_count": 17,
   "metadata": {},
   "outputs": [
    {
     "data": {
      "text/plain": [
       "2.0"
      ]
     },
     "execution_count": 17,
     "metadata": {},
     "output_type": "execute_result"
    }
   ],
   "source": [
    "4 / 2"
   ]
  },
  {
   "cell_type": "markdown",
   "metadata": {},
   "source": [
    "Kita dapat menggunakan tanda kurung untuk mengelompokkan urutan pengerjaan operasi aritmetik, khususnya menegaskan mana yang perlu dilakukan lebih dulu:"
   ]
  },
  {
   "cell_type": "code",
   "execution_count": 18,
   "metadata": {},
   "outputs": [
    {
     "data": {
      "text/plain": [
       "33"
      ]
     },
     "execution_count": 18,
     "metadata": {},
     "output_type": "execute_result"
    }
   ],
   "source": [
    "5 * (4 + 3) - 2"
   ]
  },
  {
   "cell_type": "markdown",
   "metadata": {},
   "source": [
    "Suatu bilangan bulat yang dipangkatkan dengan bilangan bulat positif akan menghasilkan bilangan bulat lagi:"
   ]
  },
  {
   "cell_type": "code",
   "execution_count": 19,
   "metadata": {},
   "outputs": [
    {
     "data": {
      "text/plain": [
       "16"
      ]
     },
     "execution_count": 19,
     "metadata": {},
     "output_type": "execute_result"
    }
   ],
   "source": [
    "2**4"
   ]
  },
  {
   "cell_type": "markdown",
   "metadata": {},
   "source": [
    "Namun, pemangkatan dengan bilangan bulat negatif menghasilkan *float*:"
   ]
  },
  {
   "cell_type": "code",
   "execution_count": 20,
   "metadata": {},
   "outputs": [
    {
     "data": {
      "text/plain": [
       "0.5"
      ]
     },
     "execution_count": 20,
     "metadata": {},
     "output_type": "execute_result"
    }
   ],
   "source": [
    "2**(-1)"
   ]
  },
  {
   "cell_type": "markdown",
   "metadata": {},
   "source": [
    "Pangkat yang melibatkan *float* juga menghasilkan keluaran *float*:"
   ]
  },
  {
   "cell_type": "code",
   "execution_count": 21,
   "metadata": {},
   "outputs": [
    {
     "data": {
      "text/plain": [
       "3.0"
      ]
     },
     "execution_count": 21,
     "metadata": {},
     "output_type": "execute_result"
    }
   ],
   "source": [
    "9**0.5"
   ]
  },
  {
   "cell_type": "markdown",
   "metadata": {},
   "source": [
    "Operator sisa-bagi (modulo) akan menghitung sisa dari pembagian bilangan bulat dengan keluaran bilangan bulat:"
   ]
  },
  {
   "cell_type": "code",
   "execution_count": 22,
   "metadata": {},
   "outputs": [
    {
     "data": {
      "text/plain": [
       "3"
      ]
     },
     "execution_count": 22,
     "metadata": {},
     "output_type": "execute_result"
    }
   ],
   "source": [
    "11 % 4"
   ]
  },
  {
   "cell_type": "markdown",
   "metadata": {},
   "source": [
    "Sementara itu, operator pembagian bulat akan membulatkan hasil bagi ke bilangan bulat bawah."
   ]
  },
  {
   "cell_type": "code",
   "execution_count": 23,
   "metadata": {},
   "outputs": [
    {
     "data": {
      "text/plain": [
       "2"
      ]
     },
     "execution_count": 23,
     "metadata": {},
     "output_type": "execute_result"
    }
   ],
   "source": [
    "11 // 4"
   ]
  },
  {
   "cell_type": "markdown",
   "metadata": {},
   "source": [
    "## Beberapa Contoh\n",
    "\n",
    "### Pendekatan Taylor\n",
    "\n",
    "[Deret Taylor](https://en.wikipedia.org/wiki/Taylor_series) dari suatu fungsi eksponen $e^x$ adalah:\n",
    "\n",
    "$$\n",
    "e^x = \\sum_{k=0}^{\\infty} \\frac{x^k}{k!}\n",
    "$$\n",
    "\n",
    "Kita akan hitung polinomial Taylor derajat ke-5 yang dievaluasi pada $x = 1$ untuk mengaproksimasi nilai $e$, yakni:\n",
    "\n",
    "$$\n",
    "e \\approx \\frac{1}{0!} + \\frac{1}{1!} + \\frac{1}{2!} + \\frac{1}{3!} + \\frac{1}{4!} + \\frac{1}{5!}\n",
    "$$"
   ]
  },
  {
   "cell_type": "code",
   "execution_count": 24,
   "metadata": {},
   "outputs": [
    {
     "data": {
      "text/plain": [
       "2.7166666666666663"
      ]
     },
     "execution_count": 24,
     "metadata": {},
     "output_type": "execute_result"
    }
   ],
   "source": [
    "1 + 1 + 1/2 + 1/(3*2) + 1/(4*3*2) + 1/(5*4*3*2)"
   ]
  },
  {
   "cell_type": "markdown",
   "metadata": {},
   "source": [
    "### Rumus Pi Ramanujan\n",
    "\n",
    "[Srinivasa Ramanujan](https://en.wikipedia.org/wiki/Srinivasa_Ramanujan#Mathematical_achievements) menemukan representasi yang indah dan cepat konvergen untuk bilangan $\\pi$ sebagai berikut:\n",
    "\n",
    "$$\n",
    "\\frac{1}{\\pi} = \\frac{2 \\sqrt{2}}{99^2} \\sum_{k = 0}^{\\infty} \\frac{(4k)!}{k!^4} \\frac{1103 + 26390k}{396^{4k}}\n",
    "$$\n",
    "\n",
    "Kita akan mengaproksimasi $\\pi$ dengan menghitung resiprok (kebalikan) jumlah dari tiga suku pertama deret tersebut:\n",
    "\n",
    "$$\n",
    "\\pi \\approx \\frac{99^2}{2 \\sqrt{2}} \\frac{1}{\\left( 1103 + 4! \\frac{1103 + 26390}{396^{4}} + \\frac{8!}{2^4} \\frac{1103 + 26390(2)}{396^{8}} \\right)}\n",
    "$$"
   ]
  },
  {
   "cell_type": "code",
   "execution_count": 25,
   "metadata": {},
   "outputs": [
    {
     "data": {
      "text/plain": [
       "3.141592653589793"
      ]
     },
     "execution_count": 25,
     "metadata": {},
     "output_type": "execute_result"
    }
   ],
   "source": [
    "99**2 / (2 * 2**0.5) / (1103 + 4*3*2 * (26390 + 1103) / 396**4\n",
    "                       + 8*7*6*5*4*3*2 / 2**4 * (26390*2 + 1103) / 396**8)"
   ]
  },
  {
   "cell_type": "markdown",
   "metadata": {},
   "source": [
    "Hasil di atas adalah 16 digit eksak pertama dari [$\\pi$](https://en.wikipedia.org/wiki/Pi)."
   ]
  },
  {
   "cell_type": "markdown",
   "metadata": {},
   "source": [
    "# Variabel dalam Python\n",
    "\n",
    "Seperti halnya variabel $x$ dan $y$ dalam matematika, kita menggunakan variabel dalam pemrograman untuk mengolah angka-angka. Kita juga perlu memilih nama variabel yang cukup baik dan menghindari kata-kata tercadang (*reserved*) yang sudah digunakan untuk keperluan tertentu dalam Python."
   ]
  },
  {
   "cell_type": "markdown",
   "metadata": {},
   "source": [
    "## Pemberian nilai pada variabel\n",
    "\n",
    "Operator penugasan berupa tanda sama dengan (`=`) berfungsi untuk pemberian nilai variabel. Sebagai contoh, pemberian bilangan bulat angka 2 ke variabel `x` dapat ditulis:"
   ]
  },
  {
   "cell_type": "code",
   "execution_count": 26,
   "metadata": {},
   "outputs": [],
   "source": [
    "x = 2"
   ]
  },
  {
   "cell_type": "markdown",
   "metadata": {},
   "source": [
    "Operator penugasan tidak langsung menampilkan keluaran apapun di layar sehingga dari sel di atas seolah-olah tidak terjadi apa-apa. Untuk menampilkan isi dari variabel yang sudah diberi nilai tertentu, kita gunakan fungsi bawaan Python, `print()`, seperti contoh ini:"
   ]
  },
  {
   "cell_type": "code",
   "execution_count": 27,
   "metadata": {},
   "outputs": [
    {
     "name": "stdout",
     "output_type": "stream",
     "text": [
      "2\n"
     ]
    }
   ],
   "source": [
    "print(x)"
   ]
  },
  {
   "cell_type": "markdown",
   "metadata": {},
   "source": [
    "Kita kembali dapat menggunakan fungsi `type()` untuk pengecekan tipe data dari nilai yang dimasukkan ke suatu variabel:"
   ]
  },
  {
   "cell_type": "code",
   "execution_count": 28,
   "metadata": {},
   "outputs": [
    {
     "data": {
      "text/plain": [
       "float"
      ]
     },
     "execution_count": 28,
     "metadata": {},
     "output_type": "execute_result"
    }
   ],
   "source": [
    "pi = 3.14159\n",
    "type(pi)"
   ]
  },
  {
   "cell_type": "markdown",
   "metadata": {},
   "source": [
    "## Ketentuan penamaan\n",
    "\n",
    "Kita dapat menggunakan sembarang himpungan huruf, angka, dan garis bawah untuk membuat nama variabel dalam Python. Namun, **nama variabel tidak boleh diawali dengan angka**. Ada cukup banyak konvensi penamaan yang berbeda di dunia pemrogram Python. Untuk keperluan kita, sebaiknya ikuti [rujukan standar PEP8](https://www.python.org/dev/peps/pep-0008/#naming-conventions).\n",
    "\n",
    "Kita akan lebih banyak menggunakan `huruf_kecil_dengan_garis_bawah` untuk nama-nama variabel yang berupa teks berbahasa Inggris atau Indonesia. Sementara itu, untuk besaran-besaran fisika yang sudah ada kebiasaan nama variabelnya, kita akan gunakan huruf kecil maupun huruf besar (kapital) sesuai kebutuhan, seperti posisi `x`, kecepatan `v`, gaya `F`, dst. Tentunya akan sangat baik jika hanya dari nama variabel itu pembaca kode kita dapat langsung mengerti maknanya tanpa perlu komentar lebih jauh.\n",
    "\n",
    "Sebagai contoh, jarak dari Bandung ke Semarang sepanjang Tol Trans Jawa itu sekitar 360 km. Kita dapat menulis kode berikut ini untuk mengonversi satuan km ke mil:"
   ]
  },
  {
   "cell_type": "code",
   "execution_count": 29,
   "metadata": {},
   "outputs": [
    {
     "name": "stdout",
     "output_type": "stream",
     "text": [
      "223.70399999999998\n"
     ]
    }
   ],
   "source": [
    "distance_km = 360\n",
    "miles_per_km = 0.6214\n",
    "distance_miles = distance_km * miles_per_km\n",
    "print(distance_miles)"
   ]
  },
  {
   "cell_type": "markdown",
   "metadata": {},
   "source": [
    "## Penamaan yang perlu dihindari\n",
    "\n",
    "Ada beberapa kata yang perlu dihindari sebagai nama variabel karena kata-kata ini sudah ada dalam Python dengan makna dan kegunaan tertentu."
   ]
  },
  {
   "cell_type": "markdown",
   "metadata": {},
   "source": [
    "### Kata-kata tercadang (*reserved*)\n",
    "\n",
    "Rangkuman di bawah ini adalah [kata-kata tercadang dalam Python 3](https://docs.python.org/3.3/reference/lexical_analysis.html#keywords). Python akan memberikan *error* eksekusi jika kita coba-coba memberikan nilai ke salah satu dari kata-kata tercadang ini. Oleh karenanya, kita harus menghindari kata-kata tersebut sebagai nama-nama variabel.\n",
    "\n",
    "| `False` | `class` | `finally` | `is` | `return` |\n",
    "| :---: | :---: | :---: | :---: | :---: |\n",
    "| **`None`** |  **`continue`** | **`for`** | **`lambda`** | **`try`** |\n",
    "| **`True`** | **`def`** | **`from`** |  **`nonlocal`** | **`while`** |\n",
    "| **`and`** | **`del`** | **`global`** | **`not`** | **`with`** |\n",
    "| **`as`** | **`elif`** | **`if`** | `or` | **`yield`** |\n",
    "| **`assert`** | **`else`** | **`import`** | **`pass`** | **`break`** |\n",
    "| **`except`** | **`in`** | **`raise`** | | |"
   ]
  },
  {
   "cell_type": "markdown",
   "metadata": {},
   "source": [
    "### Nama fungsi bawaan\n",
    "\n",
    "Ada beberapa fungsi yang termasuk ke dalam pustaka standar Python. **Jangan** pernah menggunakan nama-nama fungsi ini sebagai variabel karena akan membuat kegunaan fungsi itu hilang. Sebagai contoh, jangan gunakan `sum`, `min`, `max`, `list`, atau `sorted` sebagai nama variabel. Silakan cek daftar lengkap [fungsi bawaan Python](https://docs.python.org/3/library/functions.html)."
   ]
  },
  {
   "cell_type": "markdown",
   "metadata": {},
   "source": [
    "## Jupyter Magic: whos\n",
    "\n",
    "Jupyter memiliki perintah ajaib (*magic command*) berupa [whos](http://ipython.readthedocs.io/en/stable/interactive/magics.html#magic-whos) yang dapat memberikan daftar variabel dalam Jupyter Notebook yang sedang aktif beserta tipe datanya. Sebagai contoh:"
   ]
  },
  {
   "cell_type": "code",
   "execution_count": 30,
   "metadata": {},
   "outputs": [],
   "source": [
    "x = 2\n",
    "pi = 3.14159\n",
    "distance_km = 360\n",
    "miles_per_km = 0.6214\n",
    "distance_miles = distance_km * miles_per_km"
   ]
  },
  {
   "cell_type": "code",
   "execution_count": 31,
   "metadata": {},
   "outputs": [
    {
     "name": "stdout",
     "output_type": "stream",
     "text": [
      "Variable         Type     Data/Info\n",
      "-----------------------------------\n",
      "distance_km      int      360\n",
      "distance_miles   float    223.70399999999998\n",
      "miles_per_km     float    0.6214\n",
      "pi               float    3.14159\n",
      "x                int      2\n"
     ]
    }
   ],
   "source": [
    "whos"
   ]
  }
 ],
 "metadata": {
  "kernelspec": {
   "display_name": ".venv",
   "language": "python",
   "name": "python3"
  },
  "language_info": {
   "codemirror_mode": {
    "name": "ipython",
    "version": 3
   },
   "file_extension": ".py",
   "mimetype": "text/x-python",
   "name": "python",
   "nbconvert_exporter": "python",
   "pygments_lexer": "ipython3",
   "version": "3.11.2"
  }
 },
 "nbformat": 4,
 "nbformat_minor": 4
}
