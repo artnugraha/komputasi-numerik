{
 "cells": [
  {
   "cell_type": "markdown",
   "metadata": {},
   "source": [
    "## Interpolasi Lagrange\n",
    "\n",
    "Interpolasi Lagrange adalah metode untuk menentukan polinomial yang tepat melewati seluruh titik data secara langsung. Polinomial interpolasi Lagrange dinyatakan sebagai:\n",
    "$$\n",
    "P(x) = \\sum_{i=0}^{n} y_i L_i(x)\n",
    "$$\n",
    "dengan \\( L_i(x) \\) adalah **polinomial basis Lagrange** yang didefinisikan sebagai:\n",
    "$$\n",
    "L_i(x) = \\frac{(x - x_0)(x - x_1)\\dots(x - x_{i-1})(x - x_{i+1})\\dots(x - x_n)}{(x_i - x_0)(x_i - x_1)\\dots(x_i - x_{i-1})(x_i - x_{i+1})\\dots(x_i - x_n)}\n",
    "$$\n",
    "\n",
    "Interpolasi Lagrange tidak secara eksplisit menyelesaikan bentuk matriks, namun secara implisit memenuhi persamaan matriks berikut:\n",
    "$$\n",
    "\\begin{bmatrix}\n",
    "1 & x_0 & x_0^2 & \\dots & x_0^n \\\\\n",
    "1 & x_1 & x_1^2 & \\dots & x_1^n \\\\\n",
    "\\vdots & \\vdots & \\vdots & \\dots & \\vdots \\\\\n",
    "1 & x_n & x_n^2 & \\dots & x_n^n\n",
    "\\end{bmatrix}\n",
    "\\begin{bmatrix}\n",
    "a_0 \\\\ a_1 \\\\ \\vdots \\\\ a_n\n",
    "\\end{bmatrix}\n",
    "=\n",
    "\\begin{bmatrix}\n",
    "y_0 \\\\ y_1 \\\\ \\vdots \\\\ y_n\n",
    "\\end{bmatrix}\n",
    "$$\n",
    "\n",
    "Koefisien $a_0, a_1, \\dots, a_n$ yang didapatkan dari persamaan matriks ini akan sesuai dengan polinomial yang dihasilkan metode Lagrange. Contoh implementasi diberikan berikut ini."
   ]
  },
  {
   "cell_type": "code",
   "execution_count": 5,
   "metadata": {},
   "outputs": [
    {
     "name": "stdout",
     "output_type": "stream",
     "text": [
      "Hasil interpolasi Lagrange pada t = 2 adalah 21.666666666666668\n"
     ]
    }
   ],
   "source": [
    "def lagrange_interp(x_pts, y_pts, x):\n",
    "    n = len(x_pts)\n",
    "    result = 0\n",
    "    for i in range(n):\n",
    "        term = y_pts[i]\n",
    "        for j in range(n):\n",
    "            if i != j:\n",
    "                term *= (x - x_pts[j]) / (x_pts[i] - x_pts[j])\n",
    "        result += term\n",
    "    return result\n",
    "\n",
    "# Contoh kasus (data gerak mobil di submodul sebleumnya):\n",
    "t_pts = [0, 1, 3, 4]\n",
    "x_pts = [0, 10, 35, 50]\n",
    "\n",
    "# Interpolasi posisi pada t = 2\n",
    "x_lagrange = lagrange_interp(t_pts, x_pts, 2)\n",
    "print(\"Hasil interpolasi Lagrange pada t = 2 adalah\", x_lagrange)"
   ]
  },
  {
   "cell_type": "markdown",
   "metadata": {},
   "source": [
    "## Interpolasi Newton\n",
    "\n",
    "Interpolasi Newton menggunakan aproksimasi bertahap pada setiap titik data dengan konsep **selisih terbagi** atau **beda terbagi** (*divided differences*) untuk membangun polinomial interpolasi secara iteratif:\n",
    "$$\n",
    "P(x) = f[x_0] + f[x_0, x_1](x - x_0) + f[x_0, x_1, x_2](x - x_0)(x - x_1) + \\dots\n",
    "$$\n",
    "Bentuk umumnya adalah:\n",
    "$$\n",
    "P(x) = f[x_0] + \\sum_{i=1}^{n} f[x_0,x_1,\\dots,x_i]\\prod_{j=0}^{i-1}(x - x_j)\n",
    "$$\n",
    "\n",
    "Beda terbagi didefinisikan secara rekursif sebagai berikut:\n",
    "- Beda terbagi orde pertama:\n",
    "  $$\n",
    "  f[x_i, x_{i+1}] = \\frac{f(x_{i+1}) - f(x_i)}{x_{i+1} - x_i}\n",
    "  $$\n",
    "\n",
    "- Beda terbagi orde lebih tinggi:\n",
    "  $$\n",
    "  f[x_0,\\dots,x_n] = \\frac{f[x_1,\\dots,x_n] - f[x_0,\\dots,x_{n-1}]}{x_n - x_0}\n",
    "  $$\n",
    "\n",
    "Interpolasi Newton secara implisit menyelesaikan sistem persamaan matriks yang serupa dengan interpolasi Lagrange, yaitu:\n",
    "$$\n",
    "\\begin{bmatrix}\n",
    "1 & x_0 & x_0^2 & \\dots & x_0^n \\\\\n",
    "1 & x_1 & x_1^2 & \\dots & x_1^n \\\\\n",
    "\\vdots & \\vdots & \\vdots & \\dots & \\vdots \\\\\n",
    "1 & x_n & x_n^2 & \\dots & x_n^n\n",
    "\\end{bmatrix}\n",
    "\\begin{bmatrix}\n",
    "a_0 \\\\ a_1 \\\\ \\vdots \\\\ a_n\n",
    "\\end{bmatrix}\n",
    "=\n",
    "\\begin{bmatrix}\n",
    "y_0 \\\\ y_1 \\\\ \\vdots \\\\ y_n\n",
    "\\end{bmatrix}\n",
    "$$\n",
    "\n",
    "Metode beda terbagi Newton adalah cara efisien dan terstruktur untuk menghitung koefisien-koefisien tersebut secara bertahap. Contoh implementasi Python diberikan berikut ini."
   ]
  },
  {
   "cell_type": "code",
   "execution_count": 6,
   "metadata": {},
   "outputs": [
    {
     "name": "stdout",
     "output_type": "stream",
     "text": [
      "Hasil interpolasi Newton pada t = 2 adalah 21.666666666666668\n"
     ]
    }
   ],
   "source": [
    "def newton_interp(x_pts, y_pts, x):\n",
    "    n = len(x_pts)\n",
    "    coef = [0]*n\n",
    "\n",
    "    # Menghitung beda terbagi\n",
    "    for i in range(n):\n",
    "        coef[i] = y_pts[i]\n",
    "    for j in range(1, n):\n",
    "        for i in range(n-1, j-1, -1):\n",
    "            coef[i] = (coef[i] - coef[i-1]) / (x_pts[i] - x_pts[i-j])\n",
    "\n",
    "    # Evaluasi polinomial Newton pada x\n",
    "    result = coef[n-1]\n",
    "    for i in range(n-2, -1, -1):\n",
    "        result = result*(x - x_pts[i]) + coef[i]\n",
    "\n",
    "    return result\n",
    "\n",
    "# Contoh kasus (data gerak mobil):\n",
    "t_pts = [0, 1, 3, 4]\n",
    "x_pts = [0, 10, 35, 50]\n",
    "\n",
    "# Interpolasi posisi pada t = 2\n",
    "x_newton = newton_interp(t_pts, x_pts, 2)\n",
    "print(\"Hasil interpolasi Newton pada t = 2 adalah\", x_newton)"
   ]
  },
  {
   "cell_type": "markdown",
   "metadata": {},
   "source": [
    "## Komentar untuk hasil interpolasi Lagrange vs. Newton:\n",
    "\n",
    "Kedua metode dalam kasus ini memberikan hasil yang sama karena polinomialnya sama persis. Namun, tidak serta merta semua kasus bisa begitu. Untuk perbandingan secara umum antara keduanya diberikan pada tabel berikut.\n",
    "\n",
    "| Metode | Kelebihan | Kekurangan |\n",
    "|--------|-----------|------------|\n",
    "| **Lagrange** | - Langsung menghitung hasil akhir <br> - Tidak perlu menyelesaikan sistem persamaan linear secara eksplisit | - Berat secara komputasi untuk data besar <br> - Sulit diperbarui jika ada tambahan titik data baru |\n",
    "| **Newton** | - Mudah diperbarui saat ada tambahan data baru <br> - Efisien karena koefisien dihitung secara bertahap (beda terbagi) | - Penurunan awal lebih kompleks dan kurang intuitif |\n",
    "\n",
    "Kedua metode sama-sama efektif, tetapi Newton lebih disukai jika data akan ditambahkan secara bertahap, sementara Lagrange lebih sederhana untuk dataset kecil yang sudah tetap."
   ]
  }
 ],
 "metadata": {
  "kernelspec": {
   "display_name": "py",
   "language": "python",
   "name": "python3"
  },
  "language_info": {
   "codemirror_mode": {
    "name": "ipython",
    "version": 3
   },
   "file_extension": ".py",
   "mimetype": "text/x-python",
   "name": "python",
   "nbconvert_exporter": "python",
   "pygments_lexer": "ipython3",
   "version": "3.11.2"
  }
 },
 "nbformat": 4,
 "nbformat_minor": 2
}
