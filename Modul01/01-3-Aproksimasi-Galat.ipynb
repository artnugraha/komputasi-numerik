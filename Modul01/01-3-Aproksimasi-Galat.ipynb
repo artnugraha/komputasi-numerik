{
 "cells": [
  {
   "cell_type": "markdown",
   "id": "6fd21b2f",
   "metadata": {},
   "source": [
    "# Aproksimasi dan Analisis Galat dalam Metode Numerik\n",
    "\n",
    "Metode numerik pada dasarnya adalah metode mengaproksimasi (mendekati) solusi suatu permasalahan melalui algoritma tertentu dengan galat (*error*) yang diharapkan sekecil-kecilnya. Istilah komputasi numerik kemudian kerap digunakan mengingat metode numerik diterapkan dalam komputer melalui bahasa pemrograman tertentu. Dalam kuliah ini, kita menggunakan Python sebagai implementasi algoritma setiap metode numerik yang dibahas."
   ]
  },
  {
   "cell_type": "markdown",
   "id": "7c70f160",
   "metadata": {},
   "source": [
    "---"
   ]
  },
  {
   "cell_type": "markdown",
   "id": "832c6f1c",
   "metadata": {},
   "source": [
    "## 1. Urgensi Metode Numerik\n",
    "\n",
    "Banyak permasalahan di bidang sains dan teknik tidak memiliki solusi analitik (solusi eksak) atau solusinya sangat sulit diperoleh. Metode numerik memberikan pendekatan praktis untuk memperoleh solusi pendekatan melalui algoritma iteratif. Dalam rangkaian kuliah mendatang, kita akan menjabarkan beberapa metode untuk\n",
    "- pencarian akar-akar persamaan nonlinier\n",
    "- penyelesaian permasalahan aljabar linier\n",
    "- interpolasi dan regresi\n",
    "- integrasi dan diferensiasi\n",
    "- penyesaian persamaan diferensial\n",
    "- (bila cukup waktu) transformasi Fourier dan pembelajaran mesin\n",
    "\n",
    "Dasar-dasar metode numerik di atas dapat menjadi fondasi yang berguna untuk kebanyakan permasalahan sains dan teknik yang ada di masa kini maupun masa mendatang. Perlu ditekankan bahwa solusi numerik harus dieksekusi secara efisien dari sisi waktu dan sumber daya. Oleh karena itu, algoritma harus dirancang agar stabil, akurat, dan mampu mengendalikan galat yang muncul akibat keterbatasan representasi bilangan dalam komputer.\n"
   ]
  },
  {
   "cell_type": "markdown",
   "id": "e78b2e82",
   "metadata": {},
   "source": [
    "---"
   ]
  },
  {
   "cell_type": "markdown",
   "id": "5e08e7eb",
   "metadata": {},
   "source": [
    "## 2. Representasi Bilangan dalam Komputer\n",
    "\n",
    "Bilangan *real* dalam komputer direpresentasikan menggunakan format *floating-point*, yang pada dasarnya merupakan representasi bilangan dalam bentuk biner. \n",
    "\n",
    "Representasi ini melibatkan:\n",
    "\n",
    "- **Bilangan Biner:**  \n",
    "  Semua data dalam komputer disimpan dalam bentuk biner (0 dan 1). Bilangan desimal harus dikonversi ke format biner untuk diproses.\n",
    "\n",
    "- **Komponen Floating-Point:**  \n",
    "  Format floating-point (misalnya, sesuai standar IEEE 754) terdiri atas tiga bagian:\n",
    "  - **Tanda (Sign):** Menunjukkan apakah bilangan positif atau negatif.\n",
    "  - **Eksponen (Exponent):** Mengatur skala bilangan.\n",
    "  - **Mantisa (Significand):** Menyimpan bagian presisi dari bilangan."
   ]
  },
  {
   "cell_type": "markdown",
   "id": "f3fccd5a",
   "metadata": {},
   "source": [
    "### Ukuran Variabel\n",
    "\n",
    "Ukuran variabel yang digunakan untuk menyimpan bilangan memengaruhi:\n",
    "\n",
    "- **Presisi Perhitungan:**  \n",
    "  Variabel bertipe presisi tunggal (32-bit atau 4-bytes) menyediakan jumlah bit yang lebih sedikit dibandingkan presisi ganda (64-bit atau 8-bytes), sehingga semakin besar kemungkinan terjadinya galat pembulatan.\n",
    "  \n",
    "- **Rentang Nilai:**  \n",
    "  Ukuran bit menentukan seberapa besar atau kecil bilangan yang dapat direpresentasikan. Variabel 64-bit dapat menampung rentang nilai yang jauh lebih luas daripada 32-bit.\n",
    "  \n",
    "- **Efisiensi Memori dan Kecepatan:**  \n",
    "  Penggunaan tipe data yang lebih besar (misalnya, 64-bit) mungkin memerlukan lebih banyak memori dan waktu proses, sehingga pemilihan tipe data harus disesuaikan dengan kebutuhan aplikasi.\n"
   ]
  },
  {
   "cell_type": "markdown",
   "id": "2a039d30",
   "metadata": {},
   "source": [
    "### Contoh Suatu Representasi Bilangan (Standar IEEE 754)\n",
    "\n",
    "Misalkan kita ingin merepresentasikan bilangan 6.5 (enam koma lima dalam bahasa Indonesia) menggunakan format floating-point 32-bit (presisi tunggal). Berikut adalah langkah-langkah pembagian komponen:\n",
    "\n",
    "1. **Konversi ke Bilangan Biner:**  \n",
    "   Bilangan 6.5 dalam desimal dikonversi ke biner sebagai berikut:\n",
    "   - 6 dalam biner adalah 110.\n",
    "   - 0.5 dalam biner adalah 0.1.  \n",
    "     \n",
    "   Jadi, 6.5 dalam biner menjadi:  \n",
    "   $$\n",
    "   6.5_{10} = 110.1_2.\n",
    "   $$\n",
    "\n",
    "2. **Normalisasi:**  \n",
    "   Untuk format floating-point, kita menormalkan bilangan sehingga berbentuk:\n",
    "   $$\n",
    "   1.m \\times 2^E.\n",
    "   $$\n",
    "   Kita dapat menuliskan 110.1 sebagai:\n",
    "   $$\n",
    "   110.1_2 = 1.101_2 \\times 2^2.\n",
    "   $$\n",
    "   Di sini, mantisa ($m$) adalah 101, sementara skala eksponen ($E$) adalah 2.\n",
    "\n",
    "3. **Penentuan Komponen Floating-Point:**\n",
    "   - **Sign (Tanda):**  \n",
    "     Karena 6.5 adalah bilangan positif, bit tanda adalah 0.\n",
    "   - **Exponent (Eksponen):**  \n",
    "     Dalam format IEEE 754 32-bit, eksponen disimpan dengan pergeseran 127.  \n",
    "     Eksponen sebenarnya bernilai $E = 2$, sehingga yang akan disimpan adalah:\n",
    "     $$\n",
    "     E_{\\text{stored}} = E + 127 = 2 + 127 = 129.\n",
    "     $$\n",
    "     Dalam biner, 129 ditulis sebagai:  \n",
    "     $$\n",
    "     129_{10} = 10000001_2.\n",
    "     $$\n",
    "   - **Mantisa (Significand):**  \n",
    "     Mantisa disimpan dalam 23 bit. Karena bilangan sudah dinormalisasi [dengan bentuk \\(1.101\\)], angka 1 di depan titik biner tidak disimpan (dikenal sebagai \"hidden bit\"). Dengan begitu, mantisa yang disimpan adalah bagian setelah titik, yaitu:  \n",
    "     $$\n",
    "     101\\,0000\\,0000\\,0000\\,0000\\,000_2.\n",
    "     $$\n",
    "     (ditambah nol hingga mencapai 23 bit).\n",
    "\n",
    "4. **Rangkuman Representasi:**  \n",
    "   Format 32-bit untuk 6.5 adalah:\n",
    "   - **Sign:** 0  \n",
    "   - **Exponent:** 10000001  \n",
    "   - **Mantissa:** 10100000000000000000000\n",
    "\n",
    "Dengan demikian, bilangan 6.5 dalam representasi floating-point 32-bit (IEEE 754) disusun berdasarkan komponen-komponen di atas, yang memungkinkan komputer untuk menyimpan dan mengoperasikan bilangan tersebut dengan efisiensi dan presisi yang terbatas sesuai format yang telah ditentukan."
   ]
  },
  {
   "cell_type": "markdown",
   "id": "7b05a345",
   "metadata": {},
   "source": [
    "### Machine Epsilon (ε) dan Kegunaannya\n",
    "- **Definisi:**  \n",
    "  Machine epsilon adalah nilai terkecil yang, ketika ditambahkan ke 1, menghasilkan bilangan berbeda dari 1 dalam sistem floating-point:\n",
    "  \n",
    "  $$\n",
    "  1 + \\varepsilon > 1.\n",
    "  $$\n",
    "  \n",
    "- **Implikasi dan Kegunaan:**  \n",
    "  $\\varepsilon$ menentukan batas ketelitian perhitungan dan memiliki peran penting, di antaranya:\n",
    "  - **Kontrol Galat Pembulatan:**  \n",
    "    Menjadi tolok ukur batas kesalahan pada setiap operasi aritmetika.\n",
    "  - **Kriteria Iterasi:**  \n",
    "    Digunakan dalam algoritma iteratif (misalnya, Newton-Raphson) sebagai kriteria penghentian; jika perbedaan antara iterasi kurang dari $\\varepsilon$, iterasi dianggap telah konvergensi.\n",
    "  - **Validasi Hasil:**  \n",
    "    Memastikan bahwa nilai perhitungan masih dalam batas ketelitian yang dapat diterima.\n"
   ]
  },
  {
   "cell_type": "markdown",
   "id": "ae179990",
   "metadata": {},
   "source": [
    "### Deret Taylor dalam Representasi Bilangan\n",
    "Deret Taylor tidak hanya digunakan untuk mendekati fungsi non-linear, tetapi juga sangat berguna dalam pustaka pemrograman untuk representasi nilai-nilai irasional seperti $e$, $\\pi$, $\\sin(x)$, dan $\\cos(x)$.\n",
    "- **Definisi Deret Taylor:**  \n",
    "  Fungsi $f(x)$ dapat direpresentasikan sebagai:\n",
    "  \n",
    "  $$\n",
    "  f(x) = f(a) + f'(a)(x-a) + \\frac{f''(a)}{2!}(x-a)^2 + \\frac{f'''(a)}{3!}(x-a)^3 + \\cdots.\n",
    "  $$\n",
    "  \n",
    "- **Aplikasi di Pustaka Pemrograman:**  \n",
    "  Banyak algoritma menghitung nilai fungsi irasional dengan memotong deret Taylor setelah sejumlah suku tertentu untuk mencapai ketelitian yang diinginkan sehingga komputasi dapat dilakukan dengan efisien."
   ]
  },
  {
   "cell_type": "markdown",
   "id": "04166e01",
   "metadata": {},
   "source": [
    "---"
   ]
  },
  {
   "cell_type": "markdown",
   "id": "fdc6a727",
   "metadata": {},
   "source": [
    "## 3. Analisis Galat (*Error*)\n",
    "\n",
    "Metode numerik tidak terlepas dari kesalahan/galat (*error*). Dengan memahami analisis galat, kita dapat mencoba meminimalkan kesalahan yang mungkin ada dalam setiap metode numerik.\n"
   ]
  },
  {
   "cell_type": "markdown",
   "id": "28c8fa32",
   "metadata": {},
   "source": [
    "### Jenis-Jenis Galat dan Formulanya\n",
    "\n",
    "#### a. Galat Pembulatan (Round-Off Error)\n",
    "- **Definisi:**  \n",
    "  Terjadi karena keterbatasan representasi bilangan dalam komputer. Saat mengkonversi bilangan desimal ke biner atau melakukan operasi aritmetika, nilai harus dibulatkan ke representasi terdekat.\n",
    "  \n",
    "- **Formula Matematis:**  \n",
    "  Jika $fl(x)$ adalah representasi floating-point dari $x$, maka galat relatifnya:\n",
    "  \n",
    "  $$\n",
    "  \\delta_x = \\frac{fl(x) - x}{x} \\quad \\text{dengan} \\quad |\\delta_x| \\leq \\varepsilon.\n",
    "  $$\n",
    "\n",
    "#### b. Galat Pemotongan (Truncation Error)\n",
    "- **Definisi:**  \n",
    "  Muncul saat deret tak hingga, seperti deret Taylor, dipotong setelah sejumlah suku tertentu sehingga suku-suku berikutnya diabaikan.\n",
    "  \n",
    "- **Formula Matematis:**  \n",
    "  Misalnya, fungsi $f(x)$ didekati dengan deret Taylor di sekitar $a$:\n",
    "  \n",
    "  $$\n",
    "  f(x) = \\sum_{k=0}^{\\infty} \\frac{f^{(k)}(a)}{k!}(x-a)^k.\n",
    "  $$\n",
    "  \n",
    "  Jika dipotong hingga orde $n$:\n",
    "  \n",
    "  $$\n",
    "  T_n(x) = \\sum_{k=0}^{n} \\frac{f^{(k)}(a)}{k!}(x-a)^k,\n",
    "  $$\n",
    "  \n",
    "  maka sisa (galat pemotongan) diberikan oleh bentuk Lagrange:\n",
    "  \n",
    "  $$\n",
    "  R_{n+1}(x) = \\frac{f^{(n+1)}(\\xi)}{(n+1)!}(x-a)^{n+1} \\quad \\text{dengan} \\quad \\xi \\in [a,x].\n",
    "  $$\n",
    "  \n",
    "  Secara asimtotik, $R_{n+1}(x) = O((x-a)^{n+1})$.\n",
    "\n",
    "#### c. Galat Total (Total Error)\n",
    "- **Definisi:**  \n",
    "  Merupakan akumulasi dari galat pembulatan dan galat pemotongan:\n",
    "  \n",
    "  $$\n",
    "  \\text{Galat Total} = \\text{Galat Pemotongan} + \\text{Galat Pembulatan}.\n",
    "  $$\n",
    "\n",
    "#### d. Perambatan Galat (Error Propagation)\n",
    "- **Definisi:**  \n",
    "  Menggambarkan bagaimana kesalahan pada input atau operasi awal menyebar melalui perhitungan selanjutnya.\n",
    "  \n",
    "- **Formula Umum:**  \n",
    "  Untuk fungsi $f(x_1, x_2, \\dots, x_n)$ dengan galat $\\delta x_i$ pada masing-masing variabel:\n",
    "  \n",
    "  $$\n",
    "  \\delta f \\approx \\sqrt{\\left(\\frac{\\partial f}{\\partial x_1} \\delta x_1\\right)^2 + \\left(\\frac{\\partial f}{\\partial x_2} \\delta x_2\\right)^2 + \\cdots + \\left(\\frac{\\partial f}{\\partial x_n} \\delta x_n\\right)^2}.\n",
    "  $$\n"
   ]
  },
  {
   "cell_type": "markdown",
   "id": "d82a6744",
   "metadata": {},
   "source": [
    "### Notasi Big-O dan Estimasi Galat\n",
    "Notasi Big-O digunakan untuk menyatakan orde galat yang tersisa setelah aproksimasi. Untuk deret Taylor, jika kita potong deret setelah orde \\( n \\), sisa galat adalah:\n",
    "\n",
    "$$\n",
    "R_{n+1}(x) = O((x-a)^{n+1}).\n",
    "$$\n",
    "\n",
    "Sebagai contoh, kita potong deret Taylor untuk $\\sin(x)$:\n",
    "\n",
    "$$\n",
    "\\sin(x) = x - \\frac{x^3}{6} + O(x^5),\n",
    "$$\n",
    "\n",
    "yang menunjukkan bahwa sisa galat berorde $x^5$ saat $x$ mendekati 0. Secara umum, semakin tinggi nilai pangkat dalam notasi Big-O ini maka semakin tinggi ketelitian hasil metode numerik tersebut."
   ]
  },
  {
   "cell_type": "markdown",
   "id": "34b9a6d0",
   "metadata": {},
   "source": [
    "### Contoh Kasus Analisis Galat\n",
    "\n",
    "#### Contoh 1: Aproksimasi Deret Taylor untuk $e^x$\n",
    "Aproksimasi $e^x$ di sekitar $x = 0$ dengan tiga suku pertama:\n",
    "\n",
    "$$\n",
    "e^x \\approx 1 + x + \\frac{x^2}{2}.\n",
    "$$\n",
    "\n",
    "Galat pemotongan (sisa deret) diestimasikan sebagai:\n",
    "\n",
    "$$\n",
    "R_3(x) = \\frac{e^\\xi}{3!}x^3 \\quad \\text{dengan} \\quad 0 \\leq \\xi \\leq x.\n",
    "$$\n",
    "\n",
    "Untuk $x$ kecil, galat aproksimasi adalah $O(x^3)$.\n",
    "\n",
    "#### Contoh 2: Perambatan Galat dalam Operasi Aritmetika\n",
    "Untuk fungsi $f(x, y) = x \\cdot y$ dengan galat relatif $\\delta_x$ dan $\\delta_y$, galat relatif fungsi tersebut dapat dihitung dengan:\n",
    "\n",
    "$$\n",
    "\\frac{\\delta f}{f} \\approx \\sqrt{\\left(\\frac{\\delta x}{x}\\right)^2 + \\left(\\frac{\\delta y}{y}\\right)^2}.\n",
    "$$\n",
    "\n",
    "Jika $\\delta x/x$ dan $\\delta y/y$ sama-sama kecil (misalnya, sebesar $\\varepsilon $), maka:\n",
    "\n",
    "$$\n",
    "\\frac{\\delta f}{f} \\approx \\sqrt{2}\\varepsilon.\n",
    "$$"
   ]
  }
 ],
 "metadata": {
  "jupytext": {
   "cell_metadata_filter": "-all",
   "main_language": "python",
   "notebook_metadata_filter": "-all"
  },
  "language_info": {
   "name": "python"
  }
 },
 "nbformat": 4,
 "nbformat_minor": 5
}
