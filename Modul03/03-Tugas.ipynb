{
 "cells": [
  {
   "cell_type": "markdown",
   "metadata": {},
   "source": [
    "## Tugas Modul 3\n",
    "\n",
    "**SOAL 1**\n",
    "\n",
    "Dalam satu Jupyter Notebook, buatlah penjelasan ringkas tentang dua buah metode numerik pencari akar-akar persamaan berikut ini:\n",
    "1. Metode Regula Falsi (*False Position*)\n",
    "2. Metode Secant\n",
    "\n",
    "Untuk setiap metode, mahasiswa dapat mencontoh urutan penjelasan seperti yang diberikan untuk \"metode bagi dua (*bisection*)\" dan metode Newton (atau Newton-Raphson) yang diberikan pada modul, yakni mencakup:\n",
    "- Pendahuluan/motivasi dari setiap metode\n",
    "- Langkah-langkah algoritma disertai *Pseudocode*\n",
    "- Implementasi dalam Python\n",
    "- Contoh penerapan pada kasus fisika tertentu \n",
    "   (contoh kasus tidak boleh sama dengan yang ada dalam modul)\n",
    "\n",
    "Per kelompok akan mempresentasikan di kelas di awal pertemuan pada 20 Maret 2025 sebelum masuk pembahasan materi berikutnya oleh dosen pengampu."
   ]
  },
  {
   "cell_type": "markdown",
   "metadata": {},
   "source": [
    "**SOAL 2**\n",
    "\n",
    "Buatlah satu berkas *spreadsheet* yang menunjukkan proses iterasi untuk metode bagi-dua (*bisection*) dan dibandingkan langsung dengan metode Newton-Raphson. Format kolom bisa mencontoh pada modul di bagian pengayaan metode bagi-dua dan metode Newton-Raphson."
   ]
  }
 ],
 "metadata": {
  "language_info": {
   "name": "python"
  }
 },
 "nbformat": 4,
 "nbformat_minor": 2
}
