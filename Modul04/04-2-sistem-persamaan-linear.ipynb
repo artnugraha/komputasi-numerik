{
 "cells": [
  {
   "cell_type": "markdown",
   "metadata": {
    "button": false,
    "new_sheet": false,
    "run_control": {
     "read_only": false
    }
   },
   "source": [
    "# System of Linear Equations"
   ]
  },
  {
   "cell_type": "markdown",
   "metadata": {
    "button": false,
    "new_sheet": false,
    "run_control": {
     "read_only": false
    }
   },
   "source": [
    "## Definition\n",
    "\n",
    "A $\\textbf{linear equation}$ is an equality of the form\n",
    "$$\n",
    "\\sum_{i = 1}^{n} (a_i x_i) = y,\n",
    "$$\n",
    "where $a_i$ are scalars, $x_i$ are unknown variables in $\\mathbb{R}$, and $y$ is a scalar.\n",
    "\n",
    "**EXAMPLE:** Determine which of the following equations is linear and which is not. For the ones that are not linear, can you manipulate them so that they are?\n",
    "\n",
    "1. $3x_1 + 4x_2 - 3 = -5x_3$\n",
    "2. $\\frac{-x_1 + x_2}{x_3} = 2$\n",
    "3. $x_1x_2 + x_3 = 5$\n",
    "\n",
    "**ANSWER:**\n",
    "\n",
    "- Equation 1 can be rearranged to be $3x_1 + 4x_2 + 5x_3= 3$, which clearly has the form of a linear equation. \n",
    "- Equation 2 might not look linear but can be rearranged to be $-x_1 + x_2 - 2x_3 = 0$, which is linear. \n",
    "- Equation 3 is not linear.\n",
    "\n",
    "## Building the matrix form\n",
    "\n",
    "A $\\textbf{system of linear equations}$ is a set of linear equations that share the same variables. Consider the following system of linear equations:\n",
    "$$\n",
    "\\begin{array}{rcrcccccrcc}\n",
    "a_{1,1} x_1 &+& a_{1,2} x_2 &+& {\\ldots}& +& a_{1,n-1} x_{n-1} &+&a_{1,n} x_n &=& y_1,\\\\\n",
    "a_{2,1} x_1 &+& a_{2,2} x_2 &+&{\\ldots}& +& a_{2,n-1} x_{n-1} &+& a_{2,n} x_n &=& y_2, \\\\\n",
    "&&&&{\\ldots} &&{\\ldots}&&&& \\\\\n",
    "a_{m-1,1}x_1 &+& a_{m-1,2}x_2&+ &{\\ldots}& +& a_{m-1,n-1} x_{n-1} &+& a_{m-1,n} x_n &=& y_{m-1},\\\\\n",
    "a_{m,1} x_1 &+& a_{m,2}x_2 &+ &{\\ldots}& +& a_{m,n-1} x_{n-1} &+& a_{m,n} x_n &=& y_{m}.\n",
    "\\end{array}\n",
    "$$\n",
    "\n",
    "where $a_{i,j}$ and $y_i$ are real numbers. The $\\textbf{matrix form}$ of a system of linear equations is $\\textbf{Ax = y}$ where $\\textbf{A}$ is a ${m} \\times {n}$ matrix, $A(i,j) = a_{i,j}$, $y$ is a vector in ${\\mathbb{R}}^m$, and $x$ is an unknown vector in ${\\mathbb{R}}^n$. The matrix form is showing as below:\n",
    "\n",
    "$$\\begin{bmatrix}\n",
    "a_{1,1} & a_{1,2} & ... & a_{1,n}\\\\\n",
    "a_{2,1} & a_{2,2} & ... & a_{2,n}\\\\\n",
    "... & ... & ... & ... \\\\\n",
    "a_{m,1} & a_{m,2} & ... & a_{m,n}\n",
    "\\end{bmatrix}\\left[\\begin{array}{c} x_1 \\\\x_2 \\\\ ... \\\\x_n \\end{array}\\right] =\n",
    "\\left[\\begin{array}{c} y_1 \\\\y_2 \\\\ ... \\\\y_m \\end{array}\\right]$$\n",
    "\n",
    "If you carry out the matrix multiplication, you will see that you arrive back at the original system of equations.\n",
    "\n",
    "**EXAMPLE!** Put the following system of equations into matrix form.\n",
    "$$\n",
    "\\begin{align*}\n",
    "4x + 3y - 5z &= 2 \\\\\n",
    "-2x - 4y + 5z &= 5 \\\\\n",
    "7x + 8y   &= -3 \\\\\n",
    "x   + 2z &= 1  \\\\\n",
    "9 + y - 6z &= 6\n",
    "\\end{align*}\n",
    "$$\n",
    "\n",
    "**ANSWER:**\n",
    "$$\\begin{bmatrix}\n",
    "4 & 3 & -5\\\\\n",
    "-2 & -4 & 5\\\\\n",
    "7 & 8 & 0\\\\\n",
    "1 & 0 & 2\\\\\n",
    "9 & 1 & -6\n",
    "\\end{bmatrix}\\left[\\begin{array}{c} x \\\\y \\\\z \\end{array}\\right] =\n",
    "\\left[\\begin{array}{c} 2 \\\\5 \\\\-3 \\\\1 \\\\6 \\end{array}\\right]$$"
   ]
  },
  {
   "cell_type": "markdown",
   "metadata": {},
   "source": [
    "## Solution to systems of linear equations\n",
    "\n",
    "Consider a system of linear equations in matrix form, $Ax=y$, where $A$ is an $m \\times n$ matrix. Recall that this means there are $m$ equations and $n$ unknowns in our system. A **solution** to a system of linear equations is an $x$ in ${\\mathbb{R}}^n$ that satisfies the matrix form equation. Depending on the values that populate $A$ and $y$, there are three distinct solution possibilities for $x$. Either there is no solution for $x$, or there is one, unique solution for $x$, or there are an infinite number of solutions for $x$. This fact is not shown in this text.\n",
    "\n",
    "**Case 1: There is no solution for $x$.** If ${rank}([A,y]) = {rank}(A) + 1$, then $y$ is\n",
    "linearly independent from the columns of $A$. Therefore $y$ is not in the range of $A$ and by definition, there cannot be an $x$ that satisfies the equation. Thus, comparing rank($[A,y]$) and rank($A$) provides an easy way to check if there are no solutions to a system of linear equations.\n",
    "\n",
    "**Case 2: There is a unique solution for $x$.** If ${rank}([A,y]) = {rank}(A)$, then $y$ can be written as a linear combination of the columns of $A$ and there is at least one solution for the matrix equation. For there to be only one solution, ${rank}(A) = n$ must also be true. In other words, the number of equations must be exactly equal to the number of unknowns.To see why this property results in a unique solution, consider the following three relationships between $m$ and $n: m < n, m = n$, and $m > n$. \n",
    "\n",
    "* For the case where $m < n$, ${rank}(A) = n$ cannot possibly be true because this means we have a \"fat\" matrix with fewer equations than unknowns. Thus, we do not need to consider this subcase.\n",
    "* When $m = n$ and ${rank}(A) = n$, then $A$ is square and invertible. Since the inverse of a matrix is unique, then the matrix equation $Ax = y$ can be solved by multiplying each side of the equation, on the left, by $A^{-1}$. This results in $A^{-1}Ax = A^{-1}y\\rightarrow Ix = A^{-1}y\\rightarrow x = A^{-1}y$, which gives the unique solution to the equation.\n",
    "* If $m > n$, then there are more equations than unknowns. However if ${rank}(A) = n$, then it is possible to choose $n$ equations (i.e., rows of A) such that if these equations are satisfied, then the remaining $m - n$ equations will be also satisfied. In other words, they are redundant. If the $m-n$ redundant equations are removed from the system, then the resulting system has an $A$ matrix that is $n \\times n$, and invertible. These facts are not proven in this text. The new system then has a unique solution, which is valid for the whole system.\n",
    "\n",
    "**Case 3: There is an infinite number of solutions for $x$.** If ${rank}([A, y]) = {rank}(A)$, then $y$ is in the range of $A$, and there is at least one solution for the matrix equation. However, if rank($A$) $<$ $n$, then there is an infinite number of solutions. The reason for this fact is as follows: although it is not shown here, if rank($A$) $<$ $n$, then there is at least one nonzero vector, $n$, that is in the null space of $A$ (Actually there are an infinite number of null space vectors under these conditions.). If $n$ is in the nullspace of $A$, then $An = 0$ by definition. Now let $x^{{\\ast}}$ be a solution to the matrix equation $Ax = y$; then necessarily, $Ax^{{\\ast}} = y$. However, $Ax^{{\\ast}} + An = y$ or $A(x^{{\\ast}} + n) = y$. Therefore, $x^{{\\ast}} + n$ is also a\n",
    "solution for $Ax = y$. In fact, since $A$ is a linear transformation, $x^{{\\ast}} + \\alpha n$ is a solution for any real number, $\\alpha$ (you should try to show this on your own). Since there are an infinite number of acceptable values for $\\alpha$, there are an infinite number of solutions for the matrix equation.\n",
    "\n",
    "In the rest of this course, we will only discuss how we solve a systems of equations when it has unique solution, usually as shown in the following:\n",
    "\n",
    "$$\\begin{bmatrix}\n",
    "a_{1,1} & a_{1,2} & ... & a_{1,n}\\\\\n",
    "a_{2,1} & a_{2,2} & ... & a_{2,n}\\\\\n",
    "... & ... & ... & ... \\\\\n",
    "a_{n,1} & a_{n,2} & ... & a_{n,n}\n",
    "\\end{bmatrix}\\left[\\begin{array}{c} x_1 \\\\x_2 \\\\ ... \\\\x_n \\end{array}\\right] =\n",
    "\\left[\\begin{array}{c} y_1 \\\\y_2 \\\\ ... \\\\y_n \\end{array}\\right]$$\n",
    "\n",
    "We will discuss in the next section some of the common methods to solve the above problem that you will often come across in your work in science and engineering.\n",
    "\n"
   ]
  }
 ],
 "metadata": {
  "kernelspec": {
   "display_name": "Python 3",
   "language": "python",
   "name": "python3"
  },
  "language_info": {
   "codemirror_mode": {
    "name": "ipython",
    "version": 3
   },
   "file_extension": ".py",
   "mimetype": "text/x-python",
   "name": "python",
   "nbconvert_exporter": "python",
   "pygments_lexer": "ipython3",
   "version": "3.6.8"
  }
 },
 "nbformat": 4,
 "nbformat_minor": 2
}
