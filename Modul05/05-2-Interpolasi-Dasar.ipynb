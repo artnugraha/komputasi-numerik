{
 "cells": [
  {
   "cell_type": "markdown",
   "metadata": {},
   "source": [
    "## Pendefinisian Masalah Interpolasi\n",
    "\n",
    "Pada bagian sebelumnya, kita telah belajar menggunakan regresi (metode kuadrat terkecil / *least squares*) untuk menemukan parameter fungsi yang paling baik memperkirakan serangkaian titik data tanpa perlu sepenuhnya menyentuh seluruh titik data. Regresi mengasumsikan bahwa kumpulan data memiliki kesalahan pengukuran, dan kita membuat serangkaian parameter model yang meminimalkan kesalahan antara model Anda dan data. Namun, terkadang kita memiliki pengukuran yang diasumsikan sangat dapat diandalkan dan dalam kasus ini kita menginginkan fungsi estimasi yang melewati seluruh titik data tersebut. Dalam definisi yang paling ketat, masalah seperti ini adalah cakupan dari metode interpolasi.\n",
    "\n",
    "Misalkan kita memiliki kumpulan data yang terdiri dari nilai data independen, $x_i$, dan nilai data dependen, $y_i$, di mana $i = 1,\\ldots, n$. Kita ingin menemukan fungsi estimasi $\\hat{y}(x)$ sedemikian rupa sehingga $\\hat{y}(x_i) = y_i$ untuk setiap titik dalam kumpulan data kita. Ini berarti fungsi estimasi melewati titik-titik data kita. Diberikan $x^{*}$ baru, kita dapat **menginterpolasi** nilai fungsinya menggunakan $\\hat{y}(x^{*})$. Dalam konteks ini, $\\hat{y}(x)$ disebut **fungsi interpolasi**. Gambar berikut menunjukkan pernyataan masalah interpolasi, dengan tanda tanya adalah suatu nilai yang semestinya dapat didekati oleh $\\hat{y}(x^{*})$.\n",
    "\n",
    "<img src=\"../img/interpolasi.jpg\" alt=\"Interpolation\" title=\"Illustration of the interpolation problem: estimate the value of a function in between data points.\" width=\"200\"/>\n",
    "\n",
    "Tidak seperti kasus regresi, interpolasi tidak mengharuskan kita memiliki model dasar untuk data, terutama ketika ada banyak titik data yang dapat diandalkan/dipercaya. Namun, proses (misalnya proses fisika) yang menghasilkan data tersebut tetap harus memberi tahu kita tentang kualitas interpolasi. Misalnya, data kita mungkin terdiri dari koordinat posisi $x$ pergerakan suatu mobil dari waktu ke waktu $t$. Karena gerak mobil dibatasi oleh hukum-hukum fisika, kita dapat memperkirakan bahwa titik-titik antara koordinat $x$ dalam himpunan kita akan \"mulus\" dan bukannya bergerigi/patah-patah.\n",
    "\n",
    "### Contoh kasus\n",
    "\n",
    "Suatu mobil bergerak pada garis lurus, dengan posisi $x$-nya tercatat pada waktu-waktu $t$ seperti pada tabel.\n",
    "\n",
    "| Waktu $t$ (s) | Posisi $x$ (m) |\n",
    "|----------|--------------|\n",
    "| 0        | 0            |\n",
    "| 1        | 10           |\n",
    "| 3        | 35           |\n",
    "| 4        | 50           |\n",
    "\n",
    "Kita akan lakukan interpolasi untuk menemukan posisi pada $t = 2$. Ilustrasi titik-titik data ini ditunjukkan di bawah."
   ]
  },
  {
   "cell_type": "code",
   "execution_count": 21,
   "metadata": {},
   "outputs": [
    {
     "data": {
      "image/png": "[encoded data removed]",
      "text/plain": [
       "<Figure size 400x300 with 1 Axes>"
      ]
     },
     "metadata": {},
     "output_type": "display_data"
    }
   ],
   "source": [
    "import matplotlib.pyplot as plt\n",
    "\n",
    "# Titik-titik data\n",
    "t_pts = [0, 1, 3, 4]\n",
    "x_pts = [0, 10, 35, 50]\n",
    "\n",
    "# Plotting\n",
    "plt.figure(figsize=(4, 3))\n",
    "plt.plot(t_pts, x_pts, 'o', markersize=8, label='Titik data')\n",
    "plt.xlabel('Waktu (s)')\n",
    "plt.ylabel('Posisi (m)')\n",
    "plt.grid(True)\n",
    "plt.legend()\n",
    "plt.show()\n"
   ]
  },
  {
   "cell_type": "markdown",
   "metadata": {},
   "source": [
    "## Interpolasi Linear\n",
    "\n",
    "Interpolasi linier memperkirakan nilai antara dua titik data yang diketahui menggunakan garis lurus.\n",
    "\n",
    "Misalkan ada dua titik data $(x_0, y_0)$ dan $(x_1, y_1)$, fungsi (berupa polinomial) untuk interpolasinya adalah:\n",
    "$$\n",
    "y = a_0 + a_1 x\n",
    "$$\n",
    "Kita substitusikan titik-titik yang diketahui ke dalam polinomial untuk membentuk persamaan:\n",
    "$$\n",
    "a_0 + a_1 x_0 = y_0 \\\\\n",
    "a_0 + a_1 x_1 = y_1\n",
    "$$\n",
    "Sistem ini dapat dinyatakan dalam bentuk matriks sebagai:\n",
    "$$\n",
    "\\begin{bmatrix} 1 & x_0 \\\\ 1 & x_1 \\end{bmatrix} \\begin{bmatrix} a_0 \\\\ a_1 \\end{bmatrix} = \\begin{bmatrix} y_0 \\\\ y_1 \\end{bmatrix}\n",
    "$$\n",
    "\n",
    "Selesaikan sistem persamaan linear ini untuk menemukan koefisien $a_0$ dan $a_1$.\n"
   ]
  },
  {
   "cell_type": "code",
   "execution_count": 23,
   "metadata": {},
   "outputs": [
    {
     "name": "stdout",
     "output_type": "stream",
     "text": [
      "Posisi hasil interpolasi linear pada at t = 2 adalah 22.5 m\n"
     ]
    }
   ],
   "source": [
    "# Interpolasi linear\n",
    "def linear_interp(x0, y0, x1, y1, x):\n",
    "    return y0 + ((y1 - y0)/(x1 - x0)) * (x - x0)\n",
    "\n",
    "# Titik-titik data\n",
    "t0, x0 = 1, 10\n",
    "t1, x1 = 3, 35\n",
    "\n",
    "# Nilai interpolasi untuk t = 2\n",
    "t = 2\n",
    "x_linear = linear_interp(t0, x0, t1, x1, t)\n",
    "print(\"Posisi hasil interpolasi linear pada at t = 2 adalah\", x_linear, \"m\")"
   ]
  },
  {
   "cell_type": "markdown",
   "metadata": {},
   "source": [
    "## Interpolasi Kuadratik\n",
    "\n",
    "Interpolasi kuadratik akan memasangkan polinomial kuadrat dengan tiga titik data, yakni $(x_0,y_0)$, $(x_1,y_1)$, and $(x_2,y_2)$. Bentuk polinomialnya:\n",
    "$$\n",
    "y = a_0 + a_1 x + a_2 x^2\n",
    "$$\n",
    "Substitusikan data-data titik tersebut pada polinomial akan memberikan:\n",
    "$$\n",
    "a_0 + a_1 x_0 + a_2 x_0^2 = y_0 \\\\\n",
    "a_0 + a_1 x_1 + a_2 x_1^2 = y_1 \\\\\n",
    "a_0 + a_1 x_2 + a_2 x_2^2 = y_2\n",
    "$$\n",
    "Dalam bentuk matriks, sistem ini menjadi\n",
    "$$\n",
    "\\begin{bmatrix}\n",
    "1 & x_0 & x_0^2 \\\\\n",
    "1 & x_1 & x_1^2 \\\\\n",
    "1 & x_2 & x_2^2\n",
    "\\end{bmatrix}\n",
    "\\begin{bmatrix}\n",
    "a_0 \\\\\n",
    "a_1 \\\\\n",
    "a_2\n",
    "\\end{bmatrix}\n",
    "=\n",
    "\\begin{bmatrix}\n",
    "y_0 \\\\\n",
    "y_1 \\\\\n",
    "y_2\n",
    "\\end{bmatrix}\n",
    "$$\n",
    "\n",
    "Selesaikan sistem persamaan linear tersebut untuk mendapatkan koefisien-koefisien $a_0, a_1, a_2$, misalnya dengan eliminasi Gauss."
   ]
  },
  {
   "cell_type": "code",
   "execution_count": 24,
   "metadata": {},
   "outputs": [
    {
     "name": "stdout",
     "output_type": "stream",
     "text": [
      "Posisi hasil interpolasi kuadratik pada at t = 2 adalah 21.66666666666667 m\n"
     ]
    }
   ],
   "source": [
    "# Interpolasi kuadratik\n",
    "def quadratic_interp(t_pts, x_pts, t):\n",
    "\n",
    "    # Inisialisasi matriks\n",
    "    T = [[1, t_pts[i], t_pts[i]**2] for i in range(3)]\n",
    "    X = [x_pts[i] for i in range(3)]\n",
    "\n",
    "    # eliminasi Gauss\n",
    "    def gauss_elim(A, B):\n",
    "        n = len(B)\n",
    "        for i in range(n):\n",
    "            # Pivot\n",
    "            max_row = max(range(i, n), key=lambda r: abs(A[r][i]))\n",
    "            A[i], A[max_row] = A[max_row], A[i]\n",
    "            B[i], B[max_row] = B[max_row], B[i]\n",
    "\n",
    "            # Eliminasi\n",
    "            for j in range(i+1, n):\n",
    "                ratio = A[j][i]/A[i][i]\n",
    "                for k in range(i, n):\n",
    "                    A[j][k] -= ratio * A[i][k]\n",
    "                B[j] -= ratio * B[i]\n",
    "\n",
    "        # Substitusi balik\n",
    "        x = [0]*n\n",
    "        for i in range(n-1, -1, -1):\n",
    "            x[i] = (B[i] - sum(A[i][j]*x[j] for j in range(i+1, n))) / A[i][i]\n",
    "        return x\n",
    "\n",
    "    coeffs = gauss_elim(T, X)\n",
    "    a0, a1, a2 = coeffs\n",
    "\n",
    "    return a0 + a1*t + a2*t**2\n",
    "\n",
    "# Titik-titik data yang diketahui:\n",
    "t_pts = [1, 3, 4]\n",
    "x_pts = [10, 35, 50]\n",
    "\n",
    "# Posisi hasil interpolasi pada t = 2\n",
    "x_quad = quadratic_interp(t_pts, x_pts, 2)\n",
    "print(\"Posisi hasil interpolasi kuadratik pada at t = 2 adalah\", x_quad, \"m\")"
   ]
  },
  {
   "cell_type": "markdown",
   "metadata": {},
   "source": [
    "## Metode interpolasi kubik (*cubic spline*)\n",
    "\n",
    "Metode ini menghubungkan titik-titik data $(x_i, y_i)$ secara kontinu menggunakan turunan pertama dan kedua. Untuk setiap interval $[x_i, x_{i+1}]$, polinomial kubik didefinisikan sebagai\n",
    "$$\n",
    "S_i(x) = a_i + b_i(x - x_i) + c_i(x - x_i)^2 + d_i(x - x_i)^3\n",
    "$$\n",
    "\n",
    "Kondisi pencocokan kurva yang diperlukan adalah:\n",
    "- Kontinuitas nilai fungsi:\n",
    "  $$ S_i(x_{i+1}) = S_{i+1}(x_{i+1}) $$\n",
    "- Kontinuitas turunan pertama:\n",
    "  $$ S'_i(x_{i+1}) = S'_{i+1}(x_{i+1}) $$\n",
    "- Kontinuitas turunan kedua:\n",
    "  $$ S''_i(x_{i+1}) = S''_{i+1}(x_{i+1}) $$\n",
    "- Syarat batas:\n",
    "  $$ S''_0(x_0) = 0 \\quad \\text{and} \\quad S''_{n-1}(x_n) = 0 $$\n",
    "\n",
    "Kondisi-kondisi di atas pada akhirnya memberikan sistem persamaan matriks linear tridiagonal untuk turunan-turunan kedua, $c_i$:\n",
    "\n",
    "$$\n",
    "\\begin{bmatrix}\n",
    "1 & 0 & \\dots & 0 \\\\\n",
    "h_0 & 2(h_0+h_1) & h_1 & \\dots & 0 \\\\\n",
    "\\dots & \\dots & \\dots & \\dots \\\\\n",
    "0 & \\dots & h_{n-2} & 2(h_{n-2}+h_{n-1}) & h_{n-1} \\\\\n",
    "0 & \\dots & 0 & 0 & 1\n",
    "\\end{bmatrix}\n",
    "\\begin{bmatrix}\n",
    "c_0 \\\\\n",
    "c_1 \\\\\n",
    "\\dots \\\\\n",
    "c_{n-1} \\\\\n",
    "c_n\n",
    "\\end{bmatrix}\n",
    "=\n",
    "\\begin{bmatrix}\n",
    "0 \\\\\n",
    "3\\frac{y_2 - y_1}{h_1} - 3\\frac{y_1 - y_0}{h_0} \\\\\n",
    "\\dots \\\\\n",
    "3\\frac{y_n - y_{n-1}}{h_{n-1}} - 3\\frac{y_{n-1} - y_{n-2}}{h_{n-2}} \\\\\n",
    "0\n",
    "\\end{bmatrix}\n",
    "$$\n",
    "\n",
    "Seperti sebelumnya, kita dapat memecahkan sistem persamaan linear ini dengan metode yang sesuai (eliminasi Gauss atau lainnya)."
   ]
  },
  {
   "cell_type": "code",
   "execution_count": 25,
   "metadata": {},
   "outputs": [
    {
     "name": "stdout",
     "output_type": "stream",
     "text": [
      "Posisi hasil interpolasi kubik (spline) pada t = 2 adalah 21.5625 m\n"
     ]
    }
   ],
   "source": [
    "# Interpolasi kubik kombinasi dengan eliminasi Gauss\n",
    "def cubic_spline_gauss(t_pts, x_pts, t):\n",
    "    n = len(t_pts) - 1\n",
    "    h = [t_pts[i+1] - t_pts[i] for i in range(n)]\n",
    "\n",
    "    # Inisialisasi sistem matriks A*c = B\n",
    "    size = n + 1\n",
    "    A = [[0]*size for _ in range(size)]\n",
    "    B = [0]*size\n",
    "\n",
    "    # Syarat-syarat batas\n",
    "    A[0][0] = 1\n",
    "    A[n][n] = 1\n",
    "    B[0] = 0\n",
    "    B[n] = 0\n",
    "\n",
    "    # Isi matriks A dan vektor B:\n",
    "    for i in range(1, n):\n",
    "        A[i][i-1] = h[i-1]\n",
    "        A[i][i] = 2*(h[i-1] + h[i])\n",
    "        A[i][i+1] = h[i]\n",
    "        B[i] = 3*((x_pts[i+1]-x_pts[i])/h[i] - (x_pts[i]-x_pts[i-1])/h[i-1])\n",
    "\n",
    "    # eliminasi Gauss:\n",
    "    def gauss_elim(A, B):\n",
    "        n = len(B)\n",
    "        # eliminasi atas ke bawah:\n",
    "        for i in range(n):\n",
    "            # Pivoting\n",
    "            max_row = max(range(i, n), key=lambda r: abs(A[r][i]))\n",
    "            A[i], A[max_row] = A[max_row], A[i]\n",
    "            B[i], B[max_row] = B[max_row], B[i]\n",
    "\n",
    "            for j in range(i+1, n):\n",
    "                ratio = A[j][i]/A[i][i]\n",
    "                for k in range(i, n):\n",
    "                    A[j][k] -= ratio*A[i][k]\n",
    "                B[j] -= ratio*B[i]\n",
    "\n",
    "        # substitusi balik (bawah ke atas / backward)\n",
    "        x = [0]*n\n",
    "        for i in range(n-1, -1, -1):\n",
    "            sum_ax = sum(A[i][j]*x[j] for j in range(i+1, n))\n",
    "            x[i] = (B[i] - sum_ax)/A[i][i]\n",
    "        return x\n",
    "\n",
    "    # Rumus koefisien interpolasi:\n",
    "    c_pts = gauss_elim(A, B)\n",
    "\n",
    "    # Interval interpolasi:\n",
    "    interval = next(i for i in range(n) if t_pts[i] <= t <= t_pts[i+1])\n",
    "    hi = h[interval]\n",
    "\n",
    "    # Koefisien yang dicari pada interval tertentu:\n",
    "    ai = x_pts[interval]\n",
    "    bi = (x_pts[interval+1]-x_pts[interval])/hi - hi*(2*c_pts[interval]+c_pts[interval+1])/3\n",
    "    ci = c_pts[interval]\n",
    "    di = (c_pts[interval+1]-c_pts[interval])/(3*hi)\n",
    "\n",
    "    dx = t - t_pts[interval]\n",
    "    return ai + bi*dx + ci*dx**2 + di*dx**3\n",
    "\n",
    "# Contoh penggunaan dengan titik-titik data sebelumnya:\n",
    "t_pts = [0, 1, 3, 4]\n",
    "x_pts = [0, 10, 35, 50]\n",
    "\n",
    "# Interpolasi pada t = 2:\n",
    "x_spline = cubic_spline_gauss(t_pts, x_pts, 2)\n",
    "print(\"Posisi hasil interpolasi kubik (spline) pada t = 2 adalah\", x_spline, \"m\")"
   ]
  },
  {
   "cell_type": "markdown",
   "metadata": {},
   "source": [
    "### Plot data gabungan"
   ]
  },
  {
   "cell_type": "code",
   "execution_count": 27,
   "metadata": {},
   "outputs": [
    {
     "data": {
      "image/png": "[encoded data removed]",
      "text/plain": [
       "<Figure size 500x300 with 1 Axes>"
      ]
     },
     "metadata": {},
     "output_type": "display_data"
    }
   ],
   "source": [
    "import matplotlib.pyplot as plt\n",
    "\n",
    "# Titik-titik data\n",
    "t_pts = [0, 1, 3, 4]\n",
    "x_pts = [0, 10, 35, 50]\n",
    "\n",
    "t_values = [i/100 for i in range(0, 401)]  # Nilai t dari 0 hingga 4 dengan peningkatan 0.01\n",
    "x_linear = [linear_interp(1,10,3,35,t) if 1<=t<=3 else None for t in t_values]\n",
    "x_quadratic = [quadratic_interp([1,3,4],[10,35,50],t) if 1<=t<=4 else None for t in t_values]\n",
    "x_cubic = [cubic_spline_gauss(t_pts,x_pts,t) for t in t_values]\n",
    "\n",
    "# Plot data asli\n",
    "plt.figure(figsize=(5, 3))\n",
    "plt.plot(t_pts, x_pts, 'o', markersize=8, label='Titik data')\n",
    "\n",
    "# Interpolasi linear \n",
    "plt.plot([t for t in t_values if 1<=t<=3],\n",
    "         [x for x in x_linear if x is not None],\n",
    "         '--', linewidth=2, label='Interpolasi linear')\n",
    "\n",
    "# Interpolasi kuadratik\n",
    "plt.plot([t for t in t_values if 1<=t<=4],\n",
    "         [x for x in x_quadratic if x is not None],\n",
    "         '-.', linewidth=2, label='Interpolasi kuadratik')\n",
    "\n",
    "# Interpolasi kubik (spline)\n",
    "plt.plot(t_values, x_cubic, '-', linewidth=2, label='Interpolasi kubik (spline)')\n",
    "\n",
    "# Labels and title\n",
    "plt.xlabel('Waktu (s)')\n",
    "plt.ylabel('Posisi (m)')\n",
    "plt.grid(True)\n",
    "plt.legend()\n",
    "plt.show()"
   ]
  }
 ],
 "metadata": {
  "kernelspec": {
   "display_name": "py",
   "language": "python",
   "name": "python3"
  },
  "language_info": {
   "codemirror_mode": {
    "name": "ipython",
    "version": 3
   },
   "file_extension": ".py",
   "mimetype": "text/x-python",
   "name": "python",
   "nbconvert_exporter": "python",
   "pygments_lexer": "ipython3",
   "version": "3.11.2"
  }
 },
 "nbformat": 4,
 "nbformat_minor": 2
}
